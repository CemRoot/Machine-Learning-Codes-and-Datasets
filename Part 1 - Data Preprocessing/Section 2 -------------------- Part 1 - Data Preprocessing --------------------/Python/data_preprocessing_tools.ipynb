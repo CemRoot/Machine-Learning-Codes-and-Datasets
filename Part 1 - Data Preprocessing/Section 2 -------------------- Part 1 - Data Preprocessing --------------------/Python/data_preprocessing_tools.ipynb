{
 "nbformat": 4,
 "nbformat_minor": 0,
 "metadata": {
  "colab": {
   "name": "data_preprocessing_tools.ipynb",
   "provenance": [],
   "collapsed_sections": [],
   "toc_visible": true
  },
  "kernelspec": {
   "name": "python3",
   "display_name": "Python 3 (ipykernel)",
   "language": "python"
  }
 },
 "cells": [
  {
   "cell_type": "markdown",
   "metadata": {
    "id": "37puETfgRzzg",
    "colab_type": "text"
   },
   "source": [
    "# Data Preprocessing Tools"
   ]
  },
  {
   "cell_type": "markdown",
   "metadata": {
    "id": "EoRP98MpR-qj",
    "colab_type": "text"
   },
   "source": [
    "## Importing the libraries"
   ]
  },
  {
   "cell_type": "code",
   "metadata": {
    "id": "N-qiINBQSK2g",
    "colab_type": "code",
    "colab": {},
    "ExecuteTime": {
     "end_time": "2024-10-11T11:24:48.241519Z",
     "start_time": "2024-10-11T11:24:47.505307Z"
    }
   },
   "source": [
    "import numpy as np  # matematiksel işlemler için\n",
    "import matplotlib.pyplot as plt  # iyi bir grafik çizmek için\n",
    "import pandas as pd  # veriyi işlemek için"
   ],
   "outputs": [],
   "execution_count": 2
  },
  {
   "cell_type": "markdown",
   "metadata": {
    "id": "RopL7tUZSQkT",
    "colab_type": "text"
   },
   "source": [
    "## Importing the dataset"
   ]
  },
  {
   "cell_type": "code",
   "metadata": {
    "id": "WwEPNDWySTKm",
    "colab_type": "code",
    "colab": {},
    "ExecuteTime": {
     "end_time": "2024-10-11T11:24:49.463520Z",
     "start_time": "2024-10-11T11:24:49.437565Z"
    }
   },
   "source": [
    "# veriyi işlemek için pandas kütüphanesini kullanıyoruz\n",
    "dataset = pd.read_csv('Data.csv')  # veriyi okuyoruz\n",
    "# Bağımlı ve bağımsız değişkenleri ayırıyoruz\n",
    "\"\"\"Bağımlı ve bağımsız değişkenleri nasıl buluyoruz? \n",
    "Bağımlı değişken: Tahmin etmek istediğimiz değerdir.\n",
    "Bağımsız değişken: Tahmin etmek için kullanacağımız değerlerdir.\n",
    "\"\"\"\n",
    "# iloc nedir? dizinlerdeki indise göre veri seçme işlemi yapar.\n",
    "X = dataset.iloc[:, :-1].values  # bağımsız değişkenler\n",
    "\"\"\" [ : , : -1] : tüm satırları seç, : -1 tüm sütunları seç fakat son sütunu seçme ve .values ise numpy dizisine çevirme işlemi yapar.\"\"\"\n",
    "y = dataset.iloc[:, -1].values  # bağımlı değişken\n"
   ],
   "outputs": [],
   "execution_count": 3
  },
  {
   "cell_type": "code",
   "metadata": {
    "id": "hCsz2yCebe1R",
    "colab_type": "code",
    "outputId": "1e4cc568-4e51-4b38-9d46-4aa3f15204be",
    "colab": {
     "base_uri": "https://localhost:8080/",
     "height": 188
    },
    "ExecuteTime": {
     "end_time": "2024-10-11T11:24:50.982420Z",
     "start_time": "2024-10-11T11:24:50.977420Z"
    }
   },
   "source": [
    "print(X)"
   ],
   "outputs": [
    {
     "name": "stdout",
     "output_type": "stream",
     "text": [
      "[['France' 44.0 72000.0]\n",
      " ['Spain' 27.0 48000.0]\n",
      " ['Germany' 30.0 54000.0]\n",
      " ['Spain' 38.0 61000.0]\n",
      " ['Germany' 40.0 nan]\n",
      " ['France' 35.0 58000.0]\n",
      " ['Spain' nan 52000.0]\n",
      " ['France' 48.0 79000.0]\n",
      " ['Germany' 50.0 83000.0]\n",
      " ['France' 37.0 67000.0]]\n"
     ]
    }
   ],
   "execution_count": 4
  },
  {
   "cell_type": "code",
   "metadata": {
    "id": "eYrOQ43XcJR3",
    "colab_type": "code",
    "outputId": "e0873b2a-3b08-4bab-ef0d-15b88858ca44",
    "colab": {
     "base_uri": "https://localhost:8080/",
     "height": 34
    },
    "ExecuteTime": {
     "end_time": "2024-10-11T11:24:52.455644Z",
     "start_time": "2024-10-11T11:24:52.450906Z"
    }
   },
   "source": [
    "print(y)"
   ],
   "outputs": [
    {
     "name": "stdout",
     "output_type": "stream",
     "text": [
      "['No' 'Yes' 'No' 'No' 'Yes' 'Yes' 'No' 'Yes' 'No' 'Yes']\n"
     ]
    }
   ],
   "execution_count": 5
  },
  {
   "cell_type": "markdown",
   "metadata": {
    "id": "nhfKXNxlSabC",
    "colab_type": "text"
   },
   "source": [
    "## Taking care of missing data"
   ]
  },
  {
   "cell_type": "code",
   "metadata": {
    "id": "c93k7ipkSexq",
    "colab_type": "code",
    "colab": {},
    "ExecuteTime": {
     "end_time": "2024-10-11T11:24:54.390650Z",
     "start_time": "2024-10-11T11:24:53.983976Z"
    }
   },
   "source": [
    "from sklearn.impute import SimpleImputer\n",
    "\n",
    "'''Sklearn kütüphanesi genellikle makine öğrenmesi için kullanılır.\n",
    "sklearn.impute: .impute genellikle eksik verileri doldurmak için kullanılır. ve arasındaki fark ise .impute daha genel bir kütüphane iken SimpleImputer sadece eksik verileri doldurmak için kullanılır.\n",
    "SimpleImputer: eksik verileri doldurmak için kullanılır.'''\n",
    "imputer = SimpleImputer(missing_values=np.nan, strategy='mean')\n",
    "\"\"\"imputer nesnesi oluşturduk ve eksik verileri doldurmak için kullanacağımız stratejiyi belirledik.\n",
    "SimpleImputer: sınıfı içerisindeki missing_values parametresi ile eksik verilerin değerini belirledik.\n",
    "missing_values: parametresi ne işe yarıyor? eksik verilerin değerini belirlemek için kullanılır.\n",
    "np.nan: eksik verilerin değeri NaN ise kullanılır. \n",
    "strategy: parametresi ile ise eksik verileri doldurmak için kullanılacak stratejiyi belirleriz. mean stratejisi ile eksik verilerin ortalamasını alırız.\"\"\"\n",
    "\n",
    "imputer.fit(X[:, 1:3])\n",
    "\"\"\"\n",
    ".fit = veriyi öğrenmek için kullanılır. Basitçe, X'in sayısal değerlere sahip tüm sütunlarını bekler, ancak metin veya dizeler veya kategoriler içerenleri değil, yalnızca sayısal değerlere sahip olanları bekler.\n",
    "X[:, 1:3] = tüm satırları seç, 1:3 arasındaki sütunları seç. Neden 1 ve 3 arasındaki sütunları seçtik? Çünkü 3. sütun hariç seçmek istiyoruz.\n",
    "\"\"\"\n",
    "X[:, 1:3] = imputer.transform(X[:, 1:3])\n",
    "\"\"\"\n",
    "Burada ise eksik verileri doldurmak için kullanılan stratejiyi uyguluyoruz.\n",
    ".transform eksik verileri yeni veri ile doldurmak için kullanılır. \n",
    "\"\"\""
   ],
   "outputs": [
    {
     "data": {
      "text/plain": [
       "'\\nBurada ise eksik verileri doldurmak için kullanılan stratejiyi uyguluyoruz.\\n.transform eksik verileri yeni veri ile doldurmak için kullanılır. \\n'"
      ]
     },
     "execution_count": 6,
     "metadata": {},
     "output_type": "execute_result"
    }
   ],
   "execution_count": 6
  },
  {
   "cell_type": "code",
   "metadata": {
    "id": "3UgLdMS_bjq_",
    "colab_type": "code",
    "outputId": "254af4e0-681e-47f5-aaa7-b9c6f43258e9",
    "colab": {
     "base_uri": "https://localhost:8080/",
     "height": 188
    },
    "ExecuteTime": {
     "end_time": "2024-10-11T11:24:58.388504Z",
     "start_time": "2024-10-11T11:24:58.384126Z"
    }
   },
   "source": [
    "print(X)"
   ],
   "outputs": [
    {
     "name": "stdout",
     "output_type": "stream",
     "text": [
      "[['France' 44.0 72000.0]\n",
      " ['Spain' 27.0 48000.0]\n",
      " ['Germany' 30.0 54000.0]\n",
      " ['Spain' 38.0 61000.0]\n",
      " ['Germany' 40.0 63777.77777777778]\n",
      " ['France' 35.0 58000.0]\n",
      " ['Spain' 38.77777777777778 52000.0]\n",
      " ['France' 48.0 79000.0]\n",
      " ['Germany' 50.0 83000.0]\n",
      " ['France' 37.0 67000.0]]\n"
     ]
    }
   ],
   "execution_count": 7
  },
  {
   "cell_type": "markdown",
   "metadata": {
    "id": "CriG6VzVSjcK",
    "colab_type": "text"
   },
   "source": [
    "## Encoding categorical data"
   ]
  },
  {
   "cell_type": "markdown",
   "metadata": {
    "id": "AhSpdQWeSsFh",
    "colab_type": "text"
   },
   "source": [
    "### Encoding the Independent Variable\n",
    "Kategorik verileri sayısal verilere dönüştürmek, makine öğrenmesi algoritmalarının bu verilerle daha iyi çalışmasını sağlar. Algoritmalar genellikle sayısal verilerle çalışacak şekilde tasarlanmıştır ve kategorik verilerle doğrudan çalışamazlar. Bu nedenle, kategorik verileri sayısal verilere dönüştürmek için OneHotEncoder gibi araçlar kullanılır.  OneHotEncoder, kategorik verileri ikili (binary) formatta kodlar. Örneğin, \"Germany\", \"France\" ve \"Spain\" gibi kategorik veriler, her biri için ayrı bir sütun oluşturularak 1 ve 0 değerleriyle temsil edilir. Bu, algoritmaların veriler arasındaki ilişkileri daha iyi anlamasına yardımcı olur.  Örneğin:  \n",
    "\"Germany\" -> [1, 0, 0]\n",
    "\"France\" -> [0, 1, 0]\n",
    "\"Spain\" -> [0, 0, 1]\n",
    "Bu şekilde, kategorik veriler sayısal verilere dönüştürülmüş olur ve makine öğrenmesi algoritmaları bu verilerle çalışabilir."
   ]
  },
  {
   "cell_type": "code",
   "metadata": {
    "id": "5hwuVddlSwVi",
    "colab_type": "code",
    "colab": {},
    "ExecuteTime": {
     "end_time": "2024-10-11T11:25:00.742849Z",
     "start_time": "2024-10-11T11:25:00.733228Z"
    }
   },
   "source": [
    "from sklearn.compose import ColumnTransformer \n",
    "# ColumnTransformer: sütunları dönüştürmek için kullanılır.\n",
    "from sklearn.preprocessing import OneHotEncoder\n",
    "# OneHotEncoder: kategorik verileri sayısal verilere dönüştürmek için kullanılır.\n",
    "\n",
    "ct = ColumnTransformer(transformers=[('encoder',OneHotEncoder(),[0])],remainder='passthrough')\n",
    "\"\"\"\n",
    ":param: ColumnTransformer: sütunları dönüştürmek için kullanılır.\n",
    ":param: transformers: parametresi ile dönüştürülecek sütunları belirleriz.\n",
    ":param: encoder: parametresi ile dönüştürme işlemi yapacak sınıfı belirleriz. \n",
    ":param: OneHotEncoder: kategorik verileri sayısal verilere dönüştürmek için kullanılır.\n",
    ":param: [0]: parametresi ile dönüştürülecek sütunun indeksini belirleriz.\n",
    ":param: remainder: parametresi ile dönüştürülmeyen sütunları belirleriz.\n",
    ":param: passthrough: parametresi ile dönüştürülmeyen sütunları olduğu gibi bırakırız.\n",
    "Açıklama: 0. sütunu dönüştürmek için kullanacağız ve geri kalan sütunları olduğu gibi\n",
    "bırakacağız. \n",
    "\"\"\"\n",
    "X = ct.fit_transform(X) # dönüştürme işlemi yapılır."
   ],
   "outputs": [],
   "execution_count": 8
  },
  {
   "cell_type": "code",
   "metadata": {
    "id": "f7QspewyeBfx",
    "colab_type": "code",
    "outputId": "5b35feef-7fe2-46ef-ce70-80495f94f4ed",
    "colab": {
     "base_uri": "https://localhost:8080/",
     "height": 188
    },
    "ExecuteTime": {
     "end_time": "2024-10-11T11:25:08.523055Z",
     "start_time": "2024-10-11T11:25:08.518988Z"
    }
   },
   "source": [
    "print(X)"
   ],
   "outputs": [
    {
     "name": "stdout",
     "output_type": "stream",
     "text": [
      "[[1.0 0.0 0.0 44.0 72000.0]\n",
      " [0.0 0.0 1.0 27.0 48000.0]\n",
      " [0.0 1.0 0.0 30.0 54000.0]\n",
      " [0.0 0.0 1.0 38.0 61000.0]\n",
      " [0.0 1.0 0.0 40.0 63777.77777777778]\n",
      " [1.0 0.0 0.0 35.0 58000.0]\n",
      " [0.0 0.0 1.0 38.77777777777778 52000.0]\n",
      " [1.0 0.0 0.0 48.0 79000.0]\n",
      " [0.0 1.0 0.0 50.0 83000.0]\n",
      " [1.0 0.0 0.0 37.0 67000.0]]\n"
     ]
    }
   ],
   "execution_count": 9
  },
  {
   "cell_type": "markdown",
   "metadata": {
    "id": "DXh8oVSITIc6",
    "colab_type": "text"
   },
   "source": [
    "### Encoding the Dependent Variable\n",
    "Bu kod parçasında, bağımlı değişken olan y'yi kategorik verilerden sayısal verilere dönüştürmek için LabelEncoder kullanılıyor. Bu, makine öğrenmesi algoritmalarının bu verilerle daha iyi çalışmasını sağlar. İşte adım adım açıklaması:  \n",
    "LabelEncoder sınıfı sklearn.preprocessing modülünden içe aktarılıyor.\n",
    "LabelEncoder sınıfından bir nesne oluşturuluyor.\n",
    "fit_transform metodu kullanılarak y dizisindeki kategorik veriler sayısal verilere dönüştürülüyor.\n",
    "Bu işlem sonucunda, y dizisindeki kategorik veriler sayısal verilere dönüştürülmüş olur. Örneğin, ['yes', 'no', 'yes'] gibi bir dizi, [1, 0, 1] olarak dönüştürülür."
   ]
  },
  {
   "cell_type": "code",
   "metadata": {
    "id": "XgHCShVyTOYY",
    "colab_type": "code",
    "colab": {},
    "ExecuteTime": {
     "end_time": "2024-10-11T11:38:55.827273Z",
     "start_time": "2024-10-11T11:38:55.823405Z"
    }
   },
   "source": [
    "from sklearn.preprocessing import LabelEncoder # kategorik verileri sayısal verilere dönüştürmek için kullanılır.\n",
    "\n",
    "le = LabelEncoder() # nesne oluşturduk.\n",
    "y = le.fit_transform(y) # dönüştürme işlemi yapılır."
   ],
   "outputs": [],
   "execution_count": 11
  },
  {
   "metadata": {},
   "cell_type": "markdown",
   "source": [
    "`OneHotEncoder` ve `LabelEncoder` farklı amaçlar için kullanılır ve her ikisi de kategorik verileri sayısal verilere dönüştürmek için kullanılır, ancak farklı durumlarda tercih edilirler:\n",
    "\n",
    "1. **OneHotEncoder**:\n",
    "   - Kategorik verileri ikili (binary) formatta kodlar.\n",
    "   - Her kategori için ayrı bir sütun oluşturur.\n",
    "   - Örneğin, \"Germany\", \"France\" ve \"Spain\" gibi kategoriler için:\n",
    "     - \"Germany\" -> [1, 0, 0]\n",
    "     - \"France\" -> [0, 1, 0]\n",
    "     - \"Spain\" -> [0, 0, 1]\n",
    "   - Genellikle bağımsız değişkenler (features) için kullanılır.\n",
    "\n",
    "2. **LabelEncoder**:\n",
    "   - Kategorik verileri tek bir sütunda sayısal değerlere dönüştürür.\n",
    "   - Her kategoriye bir sayı atar.\n",
    "   - Örneğin, \"yes\" ve \"no\" gibi kategoriler için:\n",
    "     - \"yes\" -> 1\n",
    "     - \"no\" -> 0\n",
    "   - Genellikle bağımlı değişkenler (labels) için kullanılır.\n",
    "\n",
    "Bu nedenle, bağımsız değişkenler için `OneHotEncoder` kullanılırken, bağımlı değişkenler için `LabelEncoder` kullanılır. Bu, makine öğrenmesi algoritmalarının verilerle daha iyi çalışmasını sağlar.\n",
    "\n",
    "Özetle:\n",
    "- `OneHotEncoder` bağımsız değişkenler için kullanılır ve her kategori için ayrı bir sütun oluşturur.\n",
    "- `LabelEncoder` bağımlı değişkenler için kullanılır ve kategorileri tek bir sütunda sayısal değerlere dönüştürür."
   ]
  },
  {
   "cell_type": "code",
   "metadata": {
    "id": "FyhY8-gPpFCa",
    "colab_type": "code",
    "outputId": "7f76ef29-5423-4c3e-cf69-45fbc366a997",
    "colab": {
     "base_uri": "https://localhost:8080/",
     "height": 34
    },
    "ExecuteTime": {
     "end_time": "2024-10-14T19:46:23.852145Z",
     "start_time": "2024-10-14T19:46:23.815965Z"
    }
   },
   "source": [
    "print(y)"
   ],
   "outputs": [
    {
     "name": "stdout",
     "output_type": "stream",
     "text": [
      "[0 1 0 0 1 1 0 1 0 1]\n"
     ]
    }
   ],
   "execution_count": 13
  },
  {
   "metadata": {},
   "cell_type": "markdown",
   "source": [
    "## Splitting the dataset into the Training set and Test settrain_test_split: sklearn.model_selection modülünden gelen bu fonksiyon, veri setini ayırmak için kullanılır.\n",
    "X: Bağımsız değişkenler (özellikler).\n",
    "y: Bağımlı değişken (hedef).\n",
    "test_size=0.2: Bu parametre, veri setinin ne kadarının test setine dahil edileceğini belirtir. Burada, verinin %20'si test için, %80'i ise eğitim için kullanılacaktır.\n",
    "random_state=1: Bu parametre, bölmenin tekrarlanabilir olmasını sağlar. Aynı random_state değeri kullanıldığında her zaman aynı bölme elde edilir.\"\"\""
   ]
  },
  {
   "cell_type": "code",
   "metadata": {
    "id": "pXgA6CzlqbCl",
    "colab_type": "code",
    "colab": {},
    "ExecuteTime": {
     "end_time": "2024-10-14T20:10:18.635880Z",
     "start_time": "2024-10-14T20:10:18.629529Z"
    }
   },
   "source": [
    "from sklearn.model_selection import train_test_split\n",
    "\n",
    "X_train, X_test, y_train, y_test = train_test_split(X, y, test_size=0.2, random_state=42)\n",
    "\n",
    "#Ortaya Çıkan Değişkenler\n",
    "#  X_train: Eğitim seti özellikleri.\n",
    "#  X_test: Test seti özellikleri.\n",
    "#  y_train: Eğitim seti hedefi.\n",
    "#  y_test: Test seti hedefi.\n"
   ],
   "outputs": [],
   "execution_count": 32
  },
  {
   "cell_type": "code",
   "metadata": {
    "id": "GuwQhFdKrYTM",
    "colab_type": "code",
    "outputId": "de1e527f-c229-4daf-e7c5-ea9d2485148d",
    "colab": {
     "base_uri": "https://localhost:8080/",
     "height": 154
    },
    "ExecuteTime": {
     "end_time": "2024-10-14T20:10:19.645842Z",
     "start_time": "2024-10-14T20:10:19.641757Z"
    }
   },
   "source": [
    "print(X_train)"
   ],
   "outputs": [
    {
     "name": "stdout",
     "output_type": "stream",
     "text": [
      "[[1.0 0.0 0.0 35.0 58000.0]\n",
      " [1.0 0.0 0.0 44.0 72000.0]\n",
      " [1.0 0.0 0.0 48.0 79000.0]\n",
      " [0.0 1.0 0.0 30.0 54000.0]\n",
      " [1.0 0.0 0.0 37.0 67000.0]\n",
      " [0.0 1.0 0.0 40.0 63777.77777777778]\n",
      " [0.0 0.0 1.0 38.0 61000.0]\n",
      " [0.0 0.0 1.0 38.77777777777778 52000.0]]\n"
     ]
    }
   ],
   "execution_count": 33
  },
  {
   "cell_type": "code",
   "metadata": {
    "id": "TUrX_Tvcrbi4",
    "colab_type": "code",
    "outputId": "9a041a9b-2642-4828-fa2f-a431d7d77631",
    "colab": {
     "base_uri": "https://localhost:8080/",
     "height": 51
    },
    "ExecuteTime": {
     "end_time": "2024-10-14T20:10:21.503368Z",
     "start_time": "2024-10-14T20:10:21.499866Z"
    }
   },
   "source": [
    "print(X_test)"
   ],
   "outputs": [
    {
     "name": "stdout",
     "output_type": "stream",
     "text": [
      "[[0.0 1.0 0.0 50.0 83000.0]\n",
      " [0.0 0.0 1.0 27.0 48000.0]]\n"
     ]
    }
   ],
   "execution_count": 34
  },
  {
   "cell_type": "code",
   "metadata": {
    "id": "pSMHiIsWreQY",
    "colab_type": "code",
    "outputId": "5afe91e0-9244-4bf5-ec1b-e3e092b85c08",
    "colab": {
     "base_uri": "https://localhost:8080/",
     "height": 34
    },
    "ExecuteTime": {
     "end_time": "2024-10-14T20:10:23.200354Z",
     "start_time": "2024-10-14T20:10:23.194546Z"
    }
   },
   "source": [
    "print(y_train)"
   ],
   "outputs": [
    {
     "name": "stdout",
     "output_type": "stream",
     "text": [
      "[1 0 1 0 1 1 0 0]\n"
     ]
    }
   ],
   "execution_count": 35
  },
  {
   "cell_type": "code",
   "metadata": {
    "id": "I_tW7H56rgtW",
    "colab_type": "code",
    "outputId": "2a93f141-2a99-4a69-eec5-c82a3bb8d36b",
    "colab": {
     "base_uri": "https://localhost:8080/",
     "height": 34
    },
    "ExecuteTime": {
     "end_time": "2024-10-14T20:10:24.820087Z",
     "start_time": "2024-10-14T20:10:24.816300Z"
    }
   },
   "source": [
    "print(y_test)"
   ],
   "outputs": [
    {
     "name": "stdout",
     "output_type": "stream",
     "text": [
      "[0 1]\n"
     ]
    }
   ],
   "execution_count": 36
  },
  {
   "cell_type": "markdown",
   "metadata": {
    "id": "TpGqbS4TqkIR",
    "colab_type": "text"
   },
   "source": [
    "# Feature Scaling\n",
    "\n",
    "## Nedir?\n",
    "Veri setindeki her bir özelliğin (feature) farklı aralıklarda olması, makine öğrenimi modellerinin performansını olumsuz etkileyebilir. **Feature Scaling**, bu özellikleri aynı ölçek aralığına getirerek dengeli bir öğrenme sağlar.\n",
    "\n",
    "## Ne İşe Yarar?\n",
    "Özellikle mesafeye dayalı algoritmalar (k-NN, k-Means) ve gradyan tabanlı optimizasyon yöntemleri (lojistik regresyon, yapay sinir ağları) gibi algoritmalar, özelliklerin ölçeklerine duyarlıdır. Eğer bu özellikler aynı aralıkta olmazsa, bazı özellikler diğerlerine göre daha fazla etkili olabilir.\n",
    "\n",
    "## Neden Yaparız?\n",
    "- **Mesafe tabanlı algoritmalar** için: Eğer özellikler aynı ölçek aralığında değilse, büyük ölçekli özellikler mesafeyi domine eder.\n",
    "- **Gradyan tabanlı algoritmalar** için: Gradyan iniş gibi yöntemler daha hızlı ve dengeli öğrenir.\n",
    "\n",
    "### **Önemli Not:**\n",
    "**Standartlaştırma (Standardization)**, genellikle **normalleştirmeye (Normalization)** tercih edilir, çünkü özellikle lineer modeller ve sinir ağları gibi algoritmalarda daha etkili sonuçlar verir.\n",
    "\n",
    "## Nasıl Yapılır?\n",
    "\n",
    "### 1. **Standartlaştırma (Standardization)**:\n",
    "Bu yöntem, verileri ortalaması 0 ve standart sapması 1 olacak şekilde ölçekler. En yaygın kullanılan yöntemdir.\n",
    "\n",
    "\\[\n",
    "X_{scaled} = \\frac{X - \\mu}{\\sigma}\n",
    "\\]\n",
    "\n",
    "Burada, \\( \\mu \\) veri setinin ortalaması, \\( \\sigma \\) ise standart sapmasıdır.\n",
    "\n",
    "- **Neden kullanılır?**: Gradyan inişi gibi algoritmaların daha dengeli ve hızlı öğrenmesini sağlar. Özellikle sinir ağları, lojistik regresyon ve SVM gibi modellerde yaygın olarak kullanılır.\n",
    "\n",
    "### 2. **Normalleştirme (Min-Max Scaling)**:\n",
    "Verileri belirli bir aralığa, genellikle 0 ile 1 arasına sıkıştırır.\n",
    "\n",
    "\\[\n",
    "X_{scaled} = \\frac{X - X_{min}}{X_{max} - X_{min}}\n",
    "\\]\n",
    "\n",
    "- **Nerede kullanılır?**: Özellikle mesafeye dayalı algoritmalarda (k-NN, k-Means) sık tercih edilir. Eğer verilerin sınırlarını korumak istiyorsanız (örneğin bir görüntüdeki piksel değerleri gibi), normalizasyon tercih edilebilir.\n",
    "\n",
    "## Standartlaştırma Daha Yaygın Kullanılır\n",
    "Hocanızın belirttiği gibi, birçok makine öğrenimi algoritmasında **Standartlaştırma (Standardization)** tercih edilir çünkü verilerin ortalama etrafında dengeli bir dağılım göstermesi gradyan tabanlı algoritmalar için daha uygundur.\n",
    "\n",
    "## Örnek Kod:\n",
    "```python\n",
    "from sklearn.preprocessing import StandardScaler\n",
    "\n",
    "sc = StandardScaler()\n",
    "X_train_scaled = sc.fit_transform(X_train)  # Eğitim verisini standartlaştır\n",
    "X_test_scaled = sc.transform(X_test)        # Test verisini standartlaştır\n"
   ]
  },
  {
   "cell_type": "code",
   "metadata": {
    "id": "AxjSUXFQqo-3",
    "colab_type": "code",
    "colab": {},
    "ExecuteTime": {
     "end_time": "2024-10-14T21:22:32.200343Z",
     "start_time": "2024-10-14T21:22:32.150076Z"
    }
   },
   "source": [
    "# sklearn.preprocessing modülünden StandardScaler sınıfını içe aktarıyoruz\n",
    "from sklearn.preprocessing import StandardScaler\n",
    "\n",
    "# StandardScaler sınıfından bir örnek oluşturuyoruz\n",
    "sc = StandardScaler()\n",
    "\n",
    "# Eğitim setine özellik ölçeklendirme uyguluyoruz\n",
    "# fit_transform: Eğitim verisi üzerinde scaler'ı fit eder ve ardından dönüştürür.\n",
    "# X_train[:, 3:]: Tüm satırları ve 4. sütundan itibaren olan sütunları seçer.\n",
    "X_train[:, 3:] = sc.fit_transform(X_train[:, 3:])\n",
    "\n",
    "# Aynı ölçeklendirmeyi test setine uyguluyoruz\n",
    "# transform: Eğitim verisi üzerinde fit edilen scaler'ı kullanarak test verisini dönüştürür.\n",
    "# X_test[:, 3:]: Tüm satırları ve 4. sütundan itibaren olan sütunları seçer.\n",
    "X_test[:, 3:] = sc.transform(X_test[:, 3:])"
   ],
   "outputs": [],
   "execution_count": 37
  },
  {
   "cell_type": "code",
   "metadata": {
    "id": "DWPET8ZdlMnu",
    "colab_type": "code",
    "outputId": "dea86927-5124-4e2a-e974-2804df9a913c",
    "colab": {
     "base_uri": "https://localhost:8080/",
     "height": 154
    },
    "ExecuteTime": {
     "end_time": "2024-10-14T21:43:40.653226Z",
     "start_time": "2024-10-14T21:43:40.643768Z"
    }
   },
   "source": [
    "print(X_train)"
   ],
   "outputs": [
    {
     "name": "stdout",
     "output_type": "stream",
     "text": [
      "[[1.0 0.0 0.0 -0.7529426005471072 -0.6260377781240918]\n",
      " [1.0 0.0 0.0 1.008453807952985 1.0130429500553495]\n",
      " [1.0 0.0 0.0 1.7912966561752484 1.8325833141450703]\n",
      " [0.0 1.0 0.0 -1.7314961608249362 -1.0943465576039322]\n",
      " [1.0 0.0 0.0 -0.3615211764359756 0.42765697570554906]\n",
      " [0.0 1.0 0.0 0.22561095973072184 0.05040823668012247]\n",
      " [0.0 0.0 1.0 -0.16581046438040975 -0.27480619351421154]\n",
      " [0.0 0.0 1.0 -0.013591021670525094 -1.3285009473438525]]\n"
     ]
    }
   ],
   "execution_count": 38
  },
  {
   "cell_type": "code",
   "metadata": {
    "id": "sTXykB_QlRjE",
    "colab_type": "code",
    "outputId": "b68f0cfc-d07c-48cb-80d0-6800028c41f9",
    "colab": {
     "base_uri": "https://localhost:8080/",
     "height": 51
    },
    "ExecuteTime": {
     "end_time": "2024-10-14T21:43:43.338316Z",
     "start_time": "2024-10-14T21:43:43.329924Z"
    }
   },
   "source": [
    "print(X_test)"
   ],
   "outputs": [
    {
     "name": "stdout",
     "output_type": "stream",
     "text": [
      "[[0.0 1.0 0.0 2.1827180802863797 2.3008920936249107]\n",
      " [0.0 0.0 1.0 -2.3186282969916334 -1.7968097268236927]]\n"
     ]
    }
   ],
   "execution_count": 39
  }
 ]
}
